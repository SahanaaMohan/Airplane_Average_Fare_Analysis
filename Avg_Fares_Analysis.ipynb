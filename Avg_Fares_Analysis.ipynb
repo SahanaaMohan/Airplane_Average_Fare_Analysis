{
 "cells": [
  {
   "cell_type": "markdown",
   "metadata": {},
   "source": [
    "# Average AirPlane Fare Analysis in Multiple Linear Regression"
   ]
  },
  {
   "cell_type": "code",
   "execution_count": 1,
   "metadata": {},
   "outputs": [],
   "source": [
    "import numpy as np\n",
    "import pandas as pd\n",
    "%matplotlib inline\n"
   ]
  },
  {
   "cell_type": "code",
   "execution_count": 2,
   "metadata": {},
   "outputs": [
    {
     "name": "stdout",
     "output_type": "stream",
     "text": [
      "  City1 City2  Average Fare  Distance  Average weekly passengers  \\\n",
      "0   CAK   ATL        114.47       528                     424.56   \n",
      "1   CAK   MCO        122.47       860                     276.84   \n",
      "2   ALB   ATL        214.42       852                     215.76   \n",
      "3   ALB   BWI         69.40       288                     606.84   \n",
      "4   ALB   ORD        158.13       723                     313.04   \n",
      "\n",
      "  market leading airline  market share  Average fare Low price airline  \\\n",
      "0                     FL         70.19        111.03                FL   \n",
      "1                     FL         75.10        123.09                DL   \n",
      "2                     DL         78.89        223.98                CO   \n",
      "3                     WN         96.97         68.86                WN   \n",
      "4                     UA         39.79        161.36                WN   \n",
      "\n",
      "   market share   price  \n",
      "0         70.19  111.03  \n",
      "1         17.23  118.94  \n",
      "2          2.77  167.12  \n",
      "3         96.97   68.86  \n",
      "4         15.34  145.42  \n"
     ]
    },
    {
     "data": {
      "text/html": [
       "<div>\n",
       "<style scoped>\n",
       "    .dataframe tbody tr th:only-of-type {\n",
       "        vertical-align: middle;\n",
       "    }\n",
       "\n",
       "    .dataframe tbody tr th {\n",
       "        vertical-align: top;\n",
       "    }\n",
       "\n",
       "    .dataframe thead th {\n",
       "        text-align: right;\n",
       "    }\n",
       "</style>\n",
       "<table border=\"1\" class=\"dataframe\">\n",
       "  <thead>\n",
       "    <tr style=\"text-align: right;\">\n",
       "      <th></th>\n",
       "      <th>Average Fare</th>\n",
       "      <th>Distance</th>\n",
       "      <th>Average weekly passengers</th>\n",
       "      <th>market share</th>\n",
       "      <th>Average fare</th>\n",
       "      <th>market share</th>\n",
       "      <th>price</th>\n",
       "    </tr>\n",
       "  </thead>\n",
       "  <tbody>\n",
       "    <tr>\n",
       "      <th>count</th>\n",
       "      <td>1000.00000</td>\n",
       "      <td>1000.000000</td>\n",
       "      <td>1000.000000</td>\n",
       "      <td>1000.000000</td>\n",
       "      <td>1000.00000</td>\n",
       "      <td>1000.000000</td>\n",
       "      <td>1000.000000</td>\n",
       "    </tr>\n",
       "    <tr>\n",
       "      <th>mean</th>\n",
       "      <td>163.37542</td>\n",
       "      <td>1056.973000</td>\n",
       "      <td>672.279140</td>\n",
       "      <td>60.128590</td>\n",
       "      <td>166.64756</td>\n",
       "      <td>34.551480</td>\n",
       "      <td>143.193090</td>\n",
       "    </tr>\n",
       "    <tr>\n",
       "      <th>std</th>\n",
       "      <td>55.36547</td>\n",
       "      <td>643.203251</td>\n",
       "      <td>766.519254</td>\n",
       "      <td>19.367779</td>\n",
       "      <td>62.66014</td>\n",
       "      <td>27.096999</td>\n",
       "      <td>47.229184</td>\n",
       "    </tr>\n",
       "    <tr>\n",
       "      <th>min</th>\n",
       "      <td>50.52000</td>\n",
       "      <td>108.000000</td>\n",
       "      <td>181.410000</td>\n",
       "      <td>17.680000</td>\n",
       "      <td>50.52000</td>\n",
       "      <td>1.060000</td>\n",
       "      <td>49.610000</td>\n",
       "    </tr>\n",
       "    <tr>\n",
       "      <th>25%</th>\n",
       "      <td>125.97500</td>\n",
       "      <td>553.500000</td>\n",
       "      <td>257.197500</td>\n",
       "      <td>46.510000</td>\n",
       "      <td>124.08500</td>\n",
       "      <td>13.195000</td>\n",
       "      <td>113.767500</td>\n",
       "    </tr>\n",
       "    <tr>\n",
       "      <th>50%</th>\n",
       "      <td>161.34500</td>\n",
       "      <td>919.000000</td>\n",
       "      <td>404.780000</td>\n",
       "      <td>59.240000</td>\n",
       "      <td>161.40000</td>\n",
       "      <td>26.140000</td>\n",
       "      <td>137.825000</td>\n",
       "    </tr>\n",
       "    <tr>\n",
       "      <th>75%</th>\n",
       "      <td>197.39250</td>\n",
       "      <td>1452.500000</td>\n",
       "      <td>769.912500</td>\n",
       "      <td>73.510000</td>\n",
       "      <td>202.97750</td>\n",
       "      <td>52.972500</td>\n",
       "      <td>168.530000</td>\n",
       "    </tr>\n",
       "    <tr>\n",
       "      <th>max</th>\n",
       "      <td>401.23000</td>\n",
       "      <td>2724.000000</td>\n",
       "      <td>8950.760000</td>\n",
       "      <td>100.000000</td>\n",
       "      <td>490.03000</td>\n",
       "      <td>100.000000</td>\n",
       "      <td>387.940000</td>\n",
       "    </tr>\n",
       "  </tbody>\n",
       "</table>\n",
       "</div>"
      ],
      "text/plain": [
       "       Average Fare     Distance  Average weekly passengers  market share  \\\n",
       "count    1000.00000  1000.000000                1000.000000   1000.000000   \n",
       "mean      163.37542  1056.973000                 672.279140     60.128590   \n",
       "std        55.36547   643.203251                 766.519254     19.367779   \n",
       "min        50.52000   108.000000                 181.410000     17.680000   \n",
       "25%       125.97500   553.500000                 257.197500     46.510000   \n",
       "50%       161.34500   919.000000                 404.780000     59.240000   \n",
       "75%       197.39250  1452.500000                 769.912500     73.510000   \n",
       "max       401.23000  2724.000000                8950.760000    100.000000   \n",
       "\n",
       "       Average fare  market share        price  \n",
       "count    1000.00000   1000.000000  1000.000000  \n",
       "mean      166.64756     34.551480   143.193090  \n",
       "std        62.66014     27.096999    47.229184  \n",
       "min        50.52000      1.060000    49.610000  \n",
       "25%       124.08500     13.195000   113.767500  \n",
       "50%       161.40000     26.140000   137.825000  \n",
       "75%       202.97750     52.972500   168.530000  \n",
       "max       490.03000    100.000000   387.940000  "
      ]
     },
     "execution_count": 2,
     "metadata": {},
     "output_type": "execute_result"
    }
   ],
   "source": [
    "data = pd.read_csv('air.csv',header=None,sep=' ')\n",
    "data.columns= [\"City1\",\"City2\",\"Average Fare\",\"Distance\",\"Average weekly passengers\",\"market leading airline\",\"market share\",\"Average fare\",\"Low price airline\",\"market share\",\"price\"]                  \n",
    "print(data.head())     \n",
    "data.describe()\n",
    "#to reduce redundancy converted all tabs to spaces in data and mentioned space as seperator"
   ]
  },
  {
   "cell_type": "markdown",
   "metadata": {},
   "source": [
    "# Cap outliers"
   ]
  },
  {
   "cell_type": "code",
   "execution_count": 3,
   "metadata": {},
   "outputs": [
    {
     "data": {
      "text/html": [
       "<div>\n",
       "<style scoped>\n",
       "    .dataframe tbody tr th:only-of-type {\n",
       "        vertical-align: middle;\n",
       "    }\n",
       "\n",
       "    .dataframe tbody tr th {\n",
       "        vertical-align: top;\n",
       "    }\n",
       "\n",
       "    .dataframe thead th {\n",
       "        text-align: right;\n",
       "    }\n",
       "</style>\n",
       "<table border=\"1\" class=\"dataframe\">\n",
       "  <thead>\n",
       "    <tr style=\"text-align: right;\">\n",
       "      <th></th>\n",
       "      <th>Average Fare</th>\n",
       "      <th>Distance</th>\n",
       "      <th>Average weekly passengers</th>\n",
       "      <th>market share</th>\n",
       "      <th>Average fare</th>\n",
       "      <th>price</th>\n",
       "    </tr>\n",
       "  </thead>\n",
       "  <tbody>\n",
       "    <tr>\n",
       "      <th>0</th>\n",
       "      <td>114.47</td>\n",
       "      <td>528</td>\n",
       "      <td>424.56</td>\n",
       "      <td>70.19</td>\n",
       "      <td>111.03</td>\n",
       "      <td>111.03</td>\n",
       "    </tr>\n",
       "    <tr>\n",
       "      <th>1</th>\n",
       "      <td>122.47</td>\n",
       "      <td>860</td>\n",
       "      <td>276.84</td>\n",
       "      <td>75.10</td>\n",
       "      <td>123.09</td>\n",
       "      <td>118.94</td>\n",
       "    </tr>\n",
       "    <tr>\n",
       "      <th>2</th>\n",
       "      <td>214.42</td>\n",
       "      <td>852</td>\n",
       "      <td>215.76</td>\n",
       "      <td>78.89</td>\n",
       "      <td>223.98</td>\n",
       "      <td>167.12</td>\n",
       "    </tr>\n",
       "    <tr>\n",
       "      <th>3</th>\n",
       "      <td>69.40</td>\n",
       "      <td>288</td>\n",
       "      <td>606.84</td>\n",
       "      <td>96.97</td>\n",
       "      <td>68.86</td>\n",
       "      <td>68.86</td>\n",
       "    </tr>\n",
       "    <tr>\n",
       "      <th>4</th>\n",
       "      <td>158.13</td>\n",
       "      <td>723</td>\n",
       "      <td>313.04</td>\n",
       "      <td>39.79</td>\n",
       "      <td>161.36</td>\n",
       "      <td>145.42</td>\n",
       "    </tr>\n",
       "  </tbody>\n",
       "</table>\n",
       "</div>"
      ],
      "text/plain": [
       "   Average Fare  Distance  Average weekly passengers  market share  \\\n",
       "0        114.47       528                     424.56         70.19   \n",
       "1        122.47       860                     276.84         75.10   \n",
       "2        214.42       852                     215.76         78.89   \n",
       "3         69.40       288                     606.84         96.97   \n",
       "4        158.13       723                     313.04         39.79   \n",
       "\n",
       "   Average fare   price  \n",
       "0        111.03  111.03  \n",
       "1        123.09  118.94  \n",
       "2        223.98  167.12  \n",
       "3         68.86   68.86  \n",
       "4        161.36  145.42  "
      ]
     },
     "execution_count": 3,
     "metadata": {},
     "output_type": "execute_result"
    }
   ],
   "source": [
    "data_out = data.drop(columns=['City1','City2','Low price airline','market leading airline'])\n",
    "data_out = data_out.loc[:,~data_out.columns.duplicated()]\n",
    "data_out.head()"
   ]
  },
  {
   "cell_type": "code",
   "execution_count": 4,
   "metadata": {},
   "outputs": [],
   "source": [
    "Q1 = data_out.quantile(0.25)\n",
    "\n",
    "Q3 = data_out.quantile(0.75)\n",
    "\n",
    "IQR = Q3 - Q1\n",
    "\n",
    "\n",
    "#data_out.shape\n",
    "df = data_out[~((data_out < (Q1 - 1.5 * IQR)) |(data_out > (Q3 + 1.5 * IQR))).any(axis=1)]\n"
   ]
  },
  {
   "cell_type": "code",
   "execution_count": 5,
   "metadata": {},
   "outputs": [
    {
     "data": {
      "text/plain": [
       "(885, 6)"
      ]
     },
     "execution_count": 5,
     "metadata": {},
     "output_type": "execute_result"
    }
   ],
   "source": [
    "df.shape"
   ]
  },
  {
   "cell_type": "code",
   "execution_count": 6,
   "metadata": {},
   "outputs": [
    {
     "data": {
      "text/html": [
       "<div>\n",
       "<style scoped>\n",
       "    .dataframe tbody tr th:only-of-type {\n",
       "        vertical-align: middle;\n",
       "    }\n",
       "\n",
       "    .dataframe tbody tr th {\n",
       "        vertical-align: top;\n",
       "    }\n",
       "\n",
       "    .dataframe thead th {\n",
       "        text-align: right;\n",
       "    }\n",
       "</style>\n",
       "<table border=\"1\" class=\"dataframe\">\n",
       "  <thead>\n",
       "    <tr style=\"text-align: right;\">\n",
       "      <th></th>\n",
       "      <th>Average Fare</th>\n",
       "      <th>Distance</th>\n",
       "      <th>Average weekly passengers</th>\n",
       "      <th>market share</th>\n",
       "      <th>Average fare</th>\n",
       "      <th>price</th>\n",
       "    </tr>\n",
       "  </thead>\n",
       "  <tbody>\n",
       "    <tr>\n",
       "      <th>0</th>\n",
       "      <td>114.47</td>\n",
       "      <td>528</td>\n",
       "      <td>424.56</td>\n",
       "      <td>70.19</td>\n",
       "      <td>111.03</td>\n",
       "      <td>111.03</td>\n",
       "    </tr>\n",
       "    <tr>\n",
       "      <th>1</th>\n",
       "      <td>122.47</td>\n",
       "      <td>860</td>\n",
       "      <td>276.84</td>\n",
       "      <td>75.10</td>\n",
       "      <td>123.09</td>\n",
       "      <td>118.94</td>\n",
       "    </tr>\n",
       "    <tr>\n",
       "      <th>2</th>\n",
       "      <td>214.42</td>\n",
       "      <td>852</td>\n",
       "      <td>215.76</td>\n",
       "      <td>78.89</td>\n",
       "      <td>223.98</td>\n",
       "      <td>167.12</td>\n",
       "    </tr>\n",
       "    <tr>\n",
       "      <th>3</th>\n",
       "      <td>69.40</td>\n",
       "      <td>288</td>\n",
       "      <td>606.84</td>\n",
       "      <td>96.97</td>\n",
       "      <td>68.86</td>\n",
       "      <td>68.86</td>\n",
       "    </tr>\n",
       "    <tr>\n",
       "      <th>4</th>\n",
       "      <td>158.13</td>\n",
       "      <td>723</td>\n",
       "      <td>313.04</td>\n",
       "      <td>39.79</td>\n",
       "      <td>161.36</td>\n",
       "      <td>145.42</td>\n",
       "    </tr>\n",
       "    <tr>\n",
       "      <th>5</th>\n",
       "      <td>135.17</td>\n",
       "      <td>1204</td>\n",
       "      <td>199.02</td>\n",
       "      <td>40.68</td>\n",
       "      <td>137.97</td>\n",
       "      <td>127.69</td>\n",
       "    </tr>\n",
       "    <tr>\n",
       "      <th>6</th>\n",
       "      <td>152.85</td>\n",
       "      <td>2237</td>\n",
       "      <td>237.17</td>\n",
       "      <td>59.94</td>\n",
       "      <td>148.59</td>\n",
       "      <td>148.59</td>\n",
       "    </tr>\n",
       "    <tr>\n",
       "      <th>7</th>\n",
       "      <td>190.73</td>\n",
       "      <td>2467</td>\n",
       "      <td>191.95</td>\n",
       "      <td>17.89</td>\n",
       "      <td>205.06</td>\n",
       "      <td>174.00</td>\n",
       "    </tr>\n",
       "    <tr>\n",
       "      <th>8</th>\n",
       "      <td>129.35</td>\n",
       "      <td>1073</td>\n",
       "      <td>550.54</td>\n",
       "      <td>76.84</td>\n",
       "      <td>127.69</td>\n",
       "      <td>127.69</td>\n",
       "    </tr>\n",
       "    <tr>\n",
       "      <th>9</th>\n",
       "      <td>134.17</td>\n",
       "      <td>1130</td>\n",
       "      <td>202.93</td>\n",
       "      <td>35.40</td>\n",
       "      <td>132.91</td>\n",
       "      <td>124.78</td>\n",
       "    </tr>\n",
       "  </tbody>\n",
       "</table>\n",
       "</div>"
      ],
      "text/plain": [
       "   Average Fare  Distance  Average weekly passengers  market share  \\\n",
       "0        114.47       528                     424.56         70.19   \n",
       "1        122.47       860                     276.84         75.10   \n",
       "2        214.42       852                     215.76         78.89   \n",
       "3         69.40       288                     606.84         96.97   \n",
       "4        158.13       723                     313.04         39.79   \n",
       "5        135.17      1204                     199.02         40.68   \n",
       "6        152.85      2237                     237.17         59.94   \n",
       "7        190.73      2467                     191.95         17.89   \n",
       "8        129.35      1073                     550.54         76.84   \n",
       "9        134.17      1130                     202.93         35.40   \n",
       "\n",
       "   Average fare   price  \n",
       "0        111.03  111.03  \n",
       "1        123.09  118.94  \n",
       "2        223.98  167.12  \n",
       "3         68.86   68.86  \n",
       "4        161.36  145.42  \n",
       "5        137.97  127.69  \n",
       "6        148.59  148.59  \n",
       "7        205.06  174.00  \n",
       "8        127.69  127.69  \n",
       "9        132.91  124.78  "
      ]
     },
     "execution_count": 6,
     "metadata": {},
     "output_type": "execute_result"
    }
   ],
   "source": [
    "df.head(10)"
   ]
  },
  {
   "cell_type": "code",
   "execution_count": 7,
   "metadata": {},
   "outputs": [],
   "source": [
    "X=df.loc[:,['Distance','price','Average fare','market share','Average weekly passengers']]"
   ]
  },
  {
   "cell_type": "code",
   "execution_count": 8,
   "metadata": {},
   "outputs": [
    {
     "data": {
      "text/html": [
       "<div>\n",
       "<style scoped>\n",
       "    .dataframe tbody tr th:only-of-type {\n",
       "        vertical-align: middle;\n",
       "    }\n",
       "\n",
       "    .dataframe tbody tr th {\n",
       "        vertical-align: top;\n",
       "    }\n",
       "\n",
       "    .dataframe thead th {\n",
       "        text-align: right;\n",
       "    }\n",
       "</style>\n",
       "<table border=\"1\" class=\"dataframe\">\n",
       "  <thead>\n",
       "    <tr style=\"text-align: right;\">\n",
       "      <th></th>\n",
       "      <th>Distance</th>\n",
       "      <th>price</th>\n",
       "      <th>Average fare</th>\n",
       "      <th>market share</th>\n",
       "      <th>Average weekly passengers</th>\n",
       "    </tr>\n",
       "  </thead>\n",
       "  <tbody>\n",
       "    <tr>\n",
       "      <th>0</th>\n",
       "      <td>528</td>\n",
       "      <td>111.03</td>\n",
       "      <td>111.03</td>\n",
       "      <td>70.19</td>\n",
       "      <td>424.56</td>\n",
       "    </tr>\n",
       "    <tr>\n",
       "      <th>1</th>\n",
       "      <td>860</td>\n",
       "      <td>118.94</td>\n",
       "      <td>123.09</td>\n",
       "      <td>75.10</td>\n",
       "      <td>276.84</td>\n",
       "    </tr>\n",
       "    <tr>\n",
       "      <th>2</th>\n",
       "      <td>852</td>\n",
       "      <td>167.12</td>\n",
       "      <td>223.98</td>\n",
       "      <td>78.89</td>\n",
       "      <td>215.76</td>\n",
       "    </tr>\n",
       "    <tr>\n",
       "      <th>3</th>\n",
       "      <td>288</td>\n",
       "      <td>68.86</td>\n",
       "      <td>68.86</td>\n",
       "      <td>96.97</td>\n",
       "      <td>606.84</td>\n",
       "    </tr>\n",
       "    <tr>\n",
       "      <th>4</th>\n",
       "      <td>723</td>\n",
       "      <td>145.42</td>\n",
       "      <td>161.36</td>\n",
       "      <td>39.79</td>\n",
       "      <td>313.04</td>\n",
       "    </tr>\n",
       "  </tbody>\n",
       "</table>\n",
       "</div>"
      ],
      "text/plain": [
       "   Distance   price  Average fare  market share  Average weekly passengers\n",
       "0       528  111.03        111.03         70.19                     424.56\n",
       "1       860  118.94        123.09         75.10                     276.84\n",
       "2       852  167.12        223.98         78.89                     215.76\n",
       "3       288   68.86         68.86         96.97                     606.84\n",
       "4       723  145.42        161.36         39.79                     313.04"
      ]
     },
     "execution_count": 8,
     "metadata": {},
     "output_type": "execute_result"
    }
   ],
   "source": [
    "X.head()"
   ]
  },
  {
   "cell_type": "code",
   "execution_count": 9,
   "metadata": {},
   "outputs": [
    {
     "data": {
      "text/plain": [
       "0    114.47\n",
       "1    122.47\n",
       "2    214.42\n",
       "3     69.40\n",
       "4    158.13\n",
       "Name: Average Fare, dtype: float64"
      ]
     },
     "execution_count": 9,
     "metadata": {},
     "output_type": "execute_result"
    }
   ],
   "source": [
    "Y= df['Average Fare']\n",
    "Y.head()"
   ]
  },
  {
   "cell_type": "markdown",
   "metadata": {},
   "source": [
    "# Dropping the independent variables which has less than 0.1 correlation with the dependent variable."
   ]
  },
  {
   "cell_type": "code",
   "execution_count": 10,
   "metadata": {},
   "outputs": [
    {
     "data": {
      "text/plain": [
       "<matplotlib.axes._subplots.AxesSubplot at 0x1c98c19b630>"
      ]
     },
     "execution_count": 10,
     "metadata": {},
     "output_type": "execute_result"
    },
    {
     "data": {
      "image/png": "[encoded data removed]",
      "text/plain": [
       "<Figure size 1296x1296 with 2 Axes>"
      ]
     },
     "metadata": {},
     "output_type": "display_data"
    }
   ],
   "source": [
    "import seaborn as sns\n",
    "import matplotlib.pyplot as plt\n",
    "\n",
    "f,ax= plt.subplots(figsize=(18,18))\n",
    "sns.heatmap(df.corr(),annot=True,linewidths=0.5,fmt='.1f',ax=ax)"
   ]
  },
  {
   "cell_type": "code",
   "execution_count": 11,
   "metadata": {},
   "outputs": [],
   "source": [
    "corr_matrix= df.corr().abs()\n",
    "\n",
    "#Select upper triangle of correlation matrix\n",
    "upper= corr_matrix.where(np.triu(np.ones(corr_matrix.shape),k=1).astype(np.bool))\n",
    "#Finding column index where correlation is less than 0.1\n",
    "to_drop=[column for column in upper.columns if any (upper[column] < 0.1)]"
   ]
  },
  {
   "cell_type": "code",
   "execution_count": 12,
   "metadata": {},
   "outputs": [
    {
     "name": "stdout",
     "output_type": "stream",
     "text": [
      "Column to be dropped ['market share']\n"
     ]
    }
   ],
   "source": [
    "print('Column to be dropped',to_drop)"
   ]
  },
  {
   "cell_type": "code",
   "execution_count": 13,
   "metadata": {},
   "outputs": [
    {
     "data": {
      "text/html": [
       "<div>\n",
       "<style scoped>\n",
       "    .dataframe tbody tr th:only-of-type {\n",
       "        vertical-align: middle;\n",
       "    }\n",
       "\n",
       "    .dataframe tbody tr th {\n",
       "        vertical-align: top;\n",
       "    }\n",
       "\n",
       "    .dataframe thead th {\n",
       "        text-align: right;\n",
       "    }\n",
       "</style>\n",
       "<table border=\"1\" class=\"dataframe\">\n",
       "  <thead>\n",
       "    <tr style=\"text-align: right;\">\n",
       "      <th></th>\n",
       "      <th>Average Fare</th>\n",
       "      <th>Distance</th>\n",
       "      <th>Average weekly passengers</th>\n",
       "      <th>Average fare</th>\n",
       "      <th>price</th>\n",
       "    </tr>\n",
       "  </thead>\n",
       "  <tbody>\n",
       "    <tr>\n",
       "      <th>0</th>\n",
       "      <td>114.47</td>\n",
       "      <td>528</td>\n",
       "      <td>424.56</td>\n",
       "      <td>111.03</td>\n",
       "      <td>111.03</td>\n",
       "    </tr>\n",
       "    <tr>\n",
       "      <th>1</th>\n",
       "      <td>122.47</td>\n",
       "      <td>860</td>\n",
       "      <td>276.84</td>\n",
       "      <td>123.09</td>\n",
       "      <td>118.94</td>\n",
       "    </tr>\n",
       "    <tr>\n",
       "      <th>2</th>\n",
       "      <td>214.42</td>\n",
       "      <td>852</td>\n",
       "      <td>215.76</td>\n",
       "      <td>223.98</td>\n",
       "      <td>167.12</td>\n",
       "    </tr>\n",
       "    <tr>\n",
       "      <th>3</th>\n",
       "      <td>69.40</td>\n",
       "      <td>288</td>\n",
       "      <td>606.84</td>\n",
       "      <td>68.86</td>\n",
       "      <td>68.86</td>\n",
       "    </tr>\n",
       "    <tr>\n",
       "      <th>4</th>\n",
       "      <td>158.13</td>\n",
       "      <td>723</td>\n",
       "      <td>313.04</td>\n",
       "      <td>161.36</td>\n",
       "      <td>145.42</td>\n",
       "    </tr>\n",
       "  </tbody>\n",
       "</table>\n",
       "</div>"
      ],
      "text/plain": [
       "   Average Fare  Distance  Average weekly passengers  Average fare   price\n",
       "0        114.47       528                     424.56        111.03  111.03\n",
       "1        122.47       860                     276.84        123.09  118.94\n",
       "2        214.42       852                     215.76        223.98  167.12\n",
       "3         69.40       288                     606.84         68.86   68.86\n",
       "4        158.13       723                     313.04        161.36  145.42"
      ]
     },
     "execution_count": 13,
     "metadata": {},
     "output_type": "execute_result"
    }
   ],
   "source": [
    "#dropping market share\n",
    "df = df.drop('market share',axis=1)\n",
    "df.head()"
   ]
  },
  {
   "cell_type": "markdown",
   "metadata": {},
   "source": [
    "# Scatter Plot of Independent Variable vs Dependent Variable"
   ]
  },
  {
   "cell_type": "code",
   "execution_count": 14,
   "metadata": {},
   "outputs": [
    {
     "data": {
      "text/plain": [
       "Text(0,0.5,'Average Fare')"
      ]
     },
     "execution_count": 14,
     "metadata": {},
     "output_type": "execute_result"
    },
    {
     "data": {
      "image/png": "[encoded data removed]",
      "text/plain": [
       "<Figure size 432x288 with 1 Axes>"
      ]
     },
     "metadata": {},
     "output_type": "display_data"
    }
   ],
   "source": [
    "plt.scatter(df.Distance, df['Average Fare'], )\n",
    "plt.xlabel('Distance')\n",
    "plt.ylabel('Average Fare')"
   ]
  },
  {
   "cell_type": "code",
   "execution_count": 15,
   "metadata": {},
   "outputs": [
    {
     "data": {
      "text/plain": [
       "Text(0,0.5,'Average Fare')"
      ]
     },
     "execution_count": 15,
     "metadata": {},
     "output_type": "execute_result"
    },
    {
     "data": {
      "image/png": "[encoded data removed]",
      "text/plain": [
       "<Figure size 432x288 with 1 Axes>"
      ]
     },
     "metadata": {},
     "output_type": "display_data"
    }
   ],
   "source": [
    "plt.scatter(df['Average weekly passengers'], df['Average Fare'], )\n",
    "plt.xlabel('Average weekly passengers')\n",
    "plt.ylabel('Average Fare')"
   ]
  },
  {
   "cell_type": "code",
   "execution_count": 16,
   "metadata": {},
   "outputs": [
    {
     "data": {
      "text/plain": [
       "Text(0,0.5,'Average Fare')"
      ]
     },
     "execution_count": 16,
     "metadata": {},
     "output_type": "execute_result"
    },
    {
     "data": {
      "image/png": "[encoded data removed]",
      "text/plain": [
       "<Figure size 432x288 with 1 Axes>"
      ]
     },
     "metadata": {},
     "output_type": "display_data"
    }
   ],
   "source": [
    "plt.scatter(df.price, df['Average Fare'], )\n",
    "plt.xlabel('Price')\n",
    "plt.ylabel('Average Fare')"
   ]
  },
  {
   "cell_type": "code",
   "execution_count": 17,
   "metadata": {},
   "outputs": [],
   "source": [
    "#Observation: Price and Average Fare has line"
   ]
  },
  {
   "cell_type": "markdown",
   "metadata": {},
   "source": [
    "#  Splitting test train data"
   ]
  },
  {
   "cell_type": "code",
   "execution_count": 19,
   "metadata": {},
   "outputs": [
    {
     "name": "stdout",
     "output_type": "stream",
     "text": [
      "(708, 5)\n",
      "(177, 5)\n"
     ]
    }
   ],
   "source": [
    "from sklearn.model_selection import train_test_split  \n",
    "X_train, X_test, y_train, y_test = train_test_split(X, Y, test_size=0.2)  \n",
    "\n",
    "print(X_train.shape)\n",
    "print(X_test.shape)"
   ]
  },
  {
   "cell_type": "code",
   "execution_count": 20,
   "metadata": {},
   "outputs": [],
   "source": [
    "from sklearn.linear_model import LinearRegression  \n",
    "reg1 = LinearRegression()  \n",
    "lm = reg1.fit(X_train, y_train)  "
   ]
  },
  {
   "cell_type": "markdown",
   "metadata": {},
   "source": [
    "#   Model Evaluation -RSquare\n",
    "Print the coefficients & intercepts of the linear regression model "
   ]
  },
  {
   "cell_type": "code",
   "execution_count": 21,
   "metadata": {},
   "outputs": [
    {
     "name": "stdout",
     "output_type": "stream",
     "text": [
      "0.9734928130061087\n"
     ]
    }
   ],
   "source": [
    "r2 = reg1.score(X_train,y_train)\n",
    "print(r2)\n"
   ]
  },
  {
   "cell_type": "code",
   "execution_count": 22,
   "metadata": {},
   "outputs": [
    {
     "name": "stdout",
     "output_type": "stream",
     "text": [
      "Coefficients\n",
      "                            Coefficient\n",
      "Distance                      0.002958\n",
      "price                         0.197793\n",
      "Average fare                  0.756215\n",
      "market share                  0.068277\n",
      "Average weekly passengers    -0.003898\n"
     ]
    }
   ],
   "source": [
    "coeff_df = pd.DataFrame(reg1.coef_, X.columns, columns=['Coefficient'])  \n",
    "print('Coefficients\\n',coeff_df)"
   ]
  },
  {
   "cell_type": "code",
   "execution_count": 23,
   "metadata": {},
   "outputs": [
    {
     "name": "stdout",
     "output_type": "stream",
     "text": [
      "Regression coefficient [ 0.00295763  0.19779262  0.75621532  0.06827665 -0.00389837]\n"
     ]
    }
   ],
   "source": [
    "print('Regression coefficient',reg1.coef_)"
   ]
  },
  {
   "cell_type": "markdown",
   "metadata": {},
   "source": [
    "#  Accuracy"
   ]
  },
  {
   "cell_type": "code",
   "execution_count": 24,
   "metadata": {},
   "outputs": [
    {
     "name": "stdout",
     "output_type": "stream",
     "text": [
      "0.9734928130061087\n"
     ]
    }
   ],
   "source": [
    "# R-Square and Adjusted R-Square scores\n",
    "r2 = reg1.score(X_train,y_train)\n",
    "print(r2)"
   ]
  },
  {
   "cell_type": "code",
   "execution_count": 25,
   "metadata": {},
   "outputs": [
    {
     "name": "stdout",
     "output_type": "stream",
     "text": [
      "Accracy of the model predicted in linear regression is  97.34928130061087\n"
     ]
    }
   ],
   "source": [
    "print('Accracy of the model predicted in linear regression is ', r2*100)"
   ]
  },
  {
   "cell_type": "code",
   "execution_count": null,
   "metadata": {},
   "outputs": [],
   "source": []
  }
 ],
 "metadata": {
  "kernelspec": {
   "display_name": "Python 3",
   "language": "python",
   "name": "python3"
  },
  "language_info": {
   "codemirror_mode": {
    "name": "ipython",
    "version": 3
   },
   "file_extension": ".py",
   "mimetype": "text/x-python",
   "name": "python",
   "nbconvert_exporter": "python",
   "pygments_lexer": "ipython3",
   "version": "3.6.5"
  }
 },
 "nbformat": 4,
 "nbformat_minor": 2
}
